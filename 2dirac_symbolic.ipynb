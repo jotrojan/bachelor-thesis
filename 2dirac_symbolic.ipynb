{
 "cells": [
  {
   "cell_type": "code",
   "execution_count": null,
   "metadata": {},
   "outputs": [],
   "source": [
    "import numpy as np\n",
    "import matplotlib.pyplot as plt\n",
    "from ipywidgets import interact, FloatSlider\n",
    "import utils.plot as pu\n",
    "\n",
    "import sympy\n",
    "from sympy import Symbol, symbols, RR\n",
    "import numpy as np\n",
    "from mpmath import *\n",
    "from matplotlib import pyplot as plt\n",
    "import scipy"
   ]
  },
  {
   "cell_type": "code",
   "execution_count": 28,
   "metadata": {},
   "outputs": [],
   "source": [
    "n = 3 # > 1, number of shells"
   ]
  },
  {
   "cell_type": "code",
   "execution_count": 29,
   "metadata": {},
   "outputs": [],
   "source": [
    "# define the symbols\n",
    "\n",
    "pi = Symbol(\"pi\")\n",
    "R, K, M, rho = [None], [Symbol('K0', real=True, positive=True)], [None], [None]\n",
    "for i in range(1, n + 1):\n",
    "    R.append(Symbol(f\"R{i}\", real=True, positive=True))\n",
    "    K.append(Symbol(f\"K{i}\", real=True, positive=True))\n",
    "    M.append(Symbol(f\"M{i}\", real=True, positive=True))\n",
    "    rho.append(Symbol(f\"rho{i}\", real=True, positive=True))"
   ]
  },
  {
   "cell_type": "code",
   "execution_count": 30,
   "metadata": {},
   "outputs": [],
   "source": [
    "# recursively construct the polynomial\n",
    "\n",
    "M[1] = 4 * pi * rho[1] * R[1]**2 * K[0]**5\n",
    "K[1] = K[0] * (1 - 2 * pi * rho[1] * R[1] * K[0]**4)\n",
    "\n",
    "for i in range(2, n + 1):\n",
    "    M[i] = M[i-1] + 4 * pi * rho[i] * R[i]**2 * (K[i-1] + M[i-1]/(2*R[i]))**5\n",
    "    K[i] = K[i-1] - 2 * pi * rho[i] * R[i] * (K[i-1] + M[i-1]/(2*R[i]))**5\n",
    "\n",
    "# substitute into the master equation\n",
    "master = 1 - K[n-1] + (M[n] - M[n-1]) / (2 * R[n])"
   ]
  },
  {
   "cell_type": "code",
   "execution_count": 31,
   "metadata": {},
   "outputs": [
    {
     "data": {
      "text/latex": [
       "$\\displaystyle - K_{0} \\left(- 2 K_{0}^{4} R_{1} \\pi \\rho_{1} + 1\\right) + 2 R_{2} \\pi \\rho_{2} \\left(\\frac{2 K_{0}^{5} R_{1}^{2} \\pi \\rho_{1}}{R_{2}} + K_{0} \\left(- 2 K_{0}^{4} R_{1} \\pi \\rho_{1} + 1\\right)\\right)^{5} + 2 R_{3} \\pi \\rho_{3} \\left(K_{0} \\left(- 2 K_{0}^{4} R_{1} \\pi \\rho_{1} + 1\\right) - 2 R_{2} \\pi \\rho_{2} \\left(\\frac{2 K_{0}^{5} R_{1}^{2} \\pi \\rho_{1}}{R_{2}} + K_{0} \\left(- 2 K_{0}^{4} R_{1} \\pi \\rho_{1} + 1\\right)\\right)^{5} + \\frac{4 K_{0}^{5} R_{1}^{2} \\pi \\rho_{1} + 4 R_{2}^{2} \\pi \\rho_{2} \\left(\\frac{2 K_{0}^{5} R_{1}^{2} \\pi \\rho_{1}}{R_{2}} + K_{0} \\left(- 2 K_{0}^{4} R_{1} \\pi \\rho_{1} + 1\\right)\\right)^{5}}{2 R_{3}}\\right)^{5} + 1$"
      ],
      "text/plain": [
       "-K0*(-2*K0**4*R1*pi*rho1 + 1) + 2*R2*pi*rho2*(2*K0**5*R1**2*pi*rho1/R2 + K0*(-2*K0**4*R1*pi*rho1 + 1))**5 + 2*R3*pi*rho3*(K0*(-2*K0**4*R1*pi*rho1 + 1) - 2*R2*pi*rho2*(2*K0**5*R1**2*pi*rho1/R2 + K0*(-2*K0**4*R1*pi*rho1 + 1))**5 + (4*K0**5*R1**2*pi*rho1 + 4*R2**2*pi*rho2*(2*K0**5*R1**2*pi*rho1/R2 + K0*(-2*K0**4*R1*pi*rho1 + 1))**5)/(2*R3))**5 + 1"
      ]
     },
     "execution_count": 31,
     "metadata": {},
     "output_type": "execute_result"
    }
   ],
   "source": [
    "master"
   ]
  },
  {
   "cell_type": "code",
   "execution_count": 32,
   "metadata": {},
   "outputs": [
    {
     "data": {
      "text/plain": [
       "([None, l1, l2, l3], [None, k1, k2, k3], [None, kappa1, kappa2, kappa3])"
      ]
     },
     "execution_count": 32,
     "metadata": {},
     "output_type": "execute_result"
    }
   ],
   "source": [
    "# define symbols for convenient substitution to simplify the polynomial\n",
    "\n",
    "l, k, kappa = [None], [None], [None]\n",
    "\n",
    "for i in range(1, n + 1):\n",
    "    l.append(Symbol(f\"l{i}\"))\n",
    "    k.append(Symbol(f\"k{i}\"))\n",
    "    kappa.append(Symbol(f\"kappa{i}\"))\n",
    "\n",
    "l, k, kappa"
   ]
  },
  {
   "cell_type": "code",
   "execution_count": 33,
   "metadata": {},
   "outputs": [
    {
     "data": {
      "text/latex": [
       "$\\displaystyle - K_{0} \\left(- \\frac{K_{0}^{4} k_{1}}{2 R_{1}} + 1\\right) + 1 + \\frac{k_{3} \\left(K_{0} \\left(- \\frac{K_{0}^{4} k_{1}}{2 R_{1}} + 1\\right) + \\frac{K_{0}^{5} k_{1} + k_{2} \\left(\\frac{K_{0}^{5} k_{1}}{2 R_{2}} + K_{0} \\left(- \\frac{K_{0}^{4} k_{1}}{2 R_{1}} + 1\\right)\\right)^{5}}{2 R_{3}} - \\frac{k_{2} \\left(\\frac{K_{0}^{5} k_{1}}{2 R_{2}} + K_{0} \\left(- \\frac{K_{0}^{4} k_{1}}{2 R_{1}} + 1\\right)\\right)^{5}}{2 R_{2}}\\right)^{5}}{2 R_{3}} + \\frac{k_{2} \\left(\\frac{K_{0}^{5} k_{1}}{2 R_{2}} + K_{0} \\left(- \\frac{K_{0}^{4} k_{1}}{2 R_{1}} + 1\\right)\\right)^{5}}{2 R_{2}}$"
      ],
      "text/plain": [
       "-K0*(-K0**4*k1/(2*R1) + 1) + 1 + k3*(K0*(-K0**4*k1/(2*R1) + 1) + (K0**5*k1 + k2*(K0**5*k1/(2*R2) + K0*(-K0**4*k1/(2*R1) + 1))**5)/(2*R3) - k2*(K0**5*k1/(2*R2) + K0*(-K0**4*k1/(2*R1) + 1))**5/(2*R2))**5/(2*R3) + k2*(K0**5*k1/(2*R2) + K0*(-K0**4*k1/(2*R1) + 1))**5/(2*R2)"
      ]
     },
     "execution_count": 33,
     "metadata": {},
     "output_type": "execute_result"
    }
   ],
   "source": [
    "_master = master.copy()\n",
    "\n",
    "# substitute k[i] := 4 * pi * R[i]**2\n",
    "for i in range(1, n + 1):\n",
    "    expr = k[i] / (4 * pi * R[i]**2)\n",
    "    _master = _master.subs(rho[i], expr)\n",
    "\n",
    "_master"
   ]
  },
  {
   "cell_type": "code",
   "execution_count": 34,
   "metadata": {},
   "outputs": [
    {
     "data": {
      "text/latex": [
       "$\\displaystyle - K_{0} \\left(- K_{0}^{4} l_{1} + 1\\right) + l_{2} \\left(\\frac{K_{0}^{5} R_{1} l_{1}}{R_{2}} + K_{0} \\left(- K_{0}^{4} l_{1} + 1\\right)\\right)^{5} + l_{3} \\left(K_{0} \\left(- K_{0}^{4} l_{1} + 1\\right) - l_{2} \\left(\\frac{K_{0}^{5} R_{1} l_{1}}{R_{2}} + K_{0} \\left(- K_{0}^{4} l_{1} + 1\\right)\\right)^{5} + \\frac{2 K_{0}^{5} R_{1} l_{1} + 2 R_{2} l_{2} \\left(\\frac{K_{0}^{5} R_{1} l_{1}}{R_{2}} + K_{0} \\left(- K_{0}^{4} l_{1} + 1\\right)\\right)^{5}}{2 R_{3}}\\right)^{5} + 1$"
      ],
      "text/plain": [
       "-K0*(-K0**4*l1 + 1) + l2*(K0**5*R1*l1/R2 + K0*(-K0**4*l1 + 1))**5 + l3*(K0*(-K0**4*l1 + 1) - l2*(K0**5*R1*l1/R2 + K0*(-K0**4*l1 + 1))**5 + (2*K0**5*R1*l1 + 2*R2*l2*(K0**5*R1*l1/R2 + K0*(-K0**4*l1 + 1))**5)/(2*R3))**5 + 1"
      ]
     },
     "execution_count": 34,
     "metadata": {},
     "output_type": "execute_result"
    }
   ],
   "source": [
    "# substitute l[i] := k[i] / (2 *R[i])\n",
    "for i in range(1 , n + 1):\n",
    "    _master = _master.subs(k[i], l[i]*2*R[i])\n",
    "\n",
    "_master"
   ]
  },
  {
   "cell_type": "code",
   "execution_count": 36,
   "metadata": {},
   "outputs": [
    {
     "data": {
      "text/latex": [
       "$\\displaystyle K_{0}^{5} l_{1} + K_{0}^{5} l_{2} \\left(K_{0}^{4} \\kappa_{1} l_{1} - K_{0}^{4} l_{1} + 1\\right)^{5} - K_{0}^{5} l_{3} \\left(- K_{0}^{4} \\kappa_{1} \\kappa_{2} l_{1} - K_{0}^{4} \\kappa_{2} l_{2} \\left(K_{0}^{4} \\kappa_{1} l_{1} - K_{0}^{4} l_{1} + 1\\right)^{5} + K_{0}^{4} l_{1} + K_{0}^{4} l_{2} \\left(K_{0}^{4} \\kappa_{1} l_{1} - K_{0}^{4} l_{1} + 1\\right)^{5} - 1\\right)^{5} - K_{0} + 1$"
      ],
      "text/plain": [
       "K0**5*l1 + K0**5*l2*(K0**4*kappa1*l1 - K0**4*l1 + 1)**5 - K0**5*l3*(-K0**4*kappa1*kappa2*l1 - K0**4*kappa2*l2*(K0**4*kappa1*l1 - K0**4*l1 + 1)**5 + K0**4*l1 + K0**4*l2*(K0**4*kappa1*l1 - K0**4*l1 + 1)**5 - 1)**5 - K0 + 1"
      ]
     },
     "execution_count": 36,
     "metadata": {},
     "output_type": "execute_result"
    }
   ],
   "source": [
    "# substitute kappa[i] := R[i-1] / R[i]\n",
    "for i in range(2, n + 1):\n",
    "    _master = _master.subs(R[i-1], R[i] * kappa[i-1])\n",
    "\n",
    "_master.simplify()"
   ]
  },
  {
   "cell_type": "code",
   "execution_count": 19,
   "metadata": {},
   "outputs": [
    {
     "data": {
      "text/plain": [
       "True"
      ]
     },
     "execution_count": 19,
     "metadata": {},
     "output_type": "execute_result"
    }
   ],
   "source": [
    "# only for n = 2\n",
    "hand_written_master = 1 - K[0] + l[1] * K[0]**5 + l[2] * (K[0] - l[1] * (1 - kappa[1]) * K[0]**5)**5\n",
    "\n",
    "# verify that the symbolic master polynomial matches the hand‑derived expression\n",
    "sympy.simplify(_master - hand_written_master) == 0 "
   ]
  }
 ],
 "metadata": {
  "kernelspec": {
   "display_name": "Python 3",
   "language": "python",
   "name": "python3"
  },
  "language_info": {
   "codemirror_mode": {
    "name": "ipython",
    "version": 3
   },
   "file_extension": ".py",
   "mimetype": "text/x-python",
   "name": "python",
   "nbconvert_exporter": "python",
   "pygments_lexer": "ipython3",
   "version": "3.12.3"
  }
 },
 "nbformat": 4,
 "nbformat_minor": 2
}
