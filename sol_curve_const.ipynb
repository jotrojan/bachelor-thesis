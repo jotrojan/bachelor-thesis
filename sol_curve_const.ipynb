{
 "cells": [
  {
   "cell_type": "code",
   "execution_count": 15,
   "metadata": {},
   "outputs": [],
   "source": [
    "import os\n",
    "import pickle\n",
    "from typing import Callable\n",
    "\n",
    "import numpy as np\n",
    "from numba import njit\n",
    "\n",
    "from matplotlib import pyplot as plt\n",
    "\n",
    "from utils.core import(\n",
    "    bound_critical_parameter,\n",
    "    locate_critical_parameter,\n",
    "    bruteforce_parameter_and_energy_relationship,\n",
    ")\n",
    "\n",
    "from utils.plot import draw_horizons, blend_color\n",
    "from utils.utilities import geospace\n",
    "import utils.plot as plot_utils"
   ]
  },
  {
   "cell_type": "code",
   "execution_count": null,
   "metadata": {},
   "outputs": [
    {
     "ename": "NameError",
     "evalue": "name 'Callable' is not defined",
     "output_type": "error",
     "traceback": [
      "\u001b[1;31m---------------------------------------------------------------------------\u001b[0m",
      "\u001b[1;31mNameError\u001b[0m                                 Traceback (most recent call last)",
      "Cell \u001b[1;32mIn[1], line 37\u001b[0m\n\u001b[0;32m     34\u001b[0m RADIUS \u001b[38;5;241m=\u001b[39m \u001b[38;5;241m500\u001b[39m\n\u001b[0;32m     35\u001b[0m WIDTH \u001b[38;5;241m=\u001b[39m \u001b[38;5;241m100\u001b[39m\n\u001b[1;32m---> 37\u001b[0m \u001b[38;5;28;01mdef\u001b[39;00m \u001b[38;5;21mget_rho\u001b[39m(parameter: \u001b[38;5;28mfloat\u001b[39m) \u001b[38;5;241m-\u001b[39m\u001b[38;5;241m>\u001b[39m \u001b[43mCallable\u001b[49m[[\u001b[38;5;28mfloat\u001b[39m], \u001b[38;5;28mfloat\u001b[39m]:\n\u001b[0;32m     39\u001b[0m     amplitude \u001b[38;5;241m=\u001b[39m parameter\n\u001b[0;32m     40\u001b[0m     radius \u001b[38;5;241m=\u001b[39m RADIUS\n",
      "\u001b[1;31mNameError\u001b[0m: name 'Callable' is not defined"
     ]
    }
   ],
   "source": [
    "### SPECIFY PARAMETERS\n",
    "\n",
    "# Runge-Kutta parameters\n",
    "R_MIN = 1.0\n",
    "R_MAX = 1000.0\n",
    "STEP = -0.05\n",
    "\n",
    "# secant method parameters\n",
    "SECANT_TOLERANCE = 1e-8\n",
    "SECANT_MAX_ITERS = 50\n",
    "SECANT_INITIAL_STEP = 1e-6\n",
    "\n",
    "\n",
    "# critical parameter in the parameter space\n",
    "\n",
    "MAX_ITERS = 20\n",
    "ALPHA_MAX = 300 # ad hoc, could be arbirtrarily large\n",
    "ALPHA_MIN = 0\n",
    "\n",
    "# locate critical parameter value using binary search\n",
    "\n",
    "BISECTION_TOLERANCE = 1e-11\n",
    "BISECTION_MAX_ITERS = 20\n",
    "BISECTION_ROOT_TOLERANCE = 1e-3\n",
    "\n",
    "# brutefore parameter range setup\n",
    "COUNT = 100\n",
    "OFFSET = 50\n",
    "RATIO = 0.9\n",
    "\n",
    "# Density profile\n",
    "\n",
    "shell = \"const_shell\"\n",
    "RADIUS = 500\n",
    "WIDTH = 100\n",
    "\n",
    "def get_rho(parameter: float) -> Callable[[float], float]:\n",
    "\n",
    "    amplitude = parameter\n",
    "    radius = RADIUS\n",
    "    width = WIDTH / 2\n",
    "\n",
    "    @njit\n",
    "    def _rho(x: float) -> float:\n",
    "            return amplitude if (radius - width < x < radius + width) else 0.0\n",
    "    return _rho"
   ]
  },
  {
   "cell_type": "code",
   "execution_count": null,
   "metadata": {},
   "outputs": [
    {
     "data": {
      "image/png": "[encoded data removed]",
      "text/plain": [
       "<Figure size 300x300 with 1 Axes>"
      ]
     },
     "metadata": {},
     "output_type": "display_data"
    }
   ],
   "source": [
    "# plot the density profile\n",
    "\n",
    "unit_rho = get_rho(1)\n",
    "r_vals = np.arange(R_MAX, R_MIN + STEP, STEP)\n",
    "unit_rho_vals = [unit_rho(_r) for _r in r_vals]\\\n",
    "\n",
    "plt.figure(figsize=(3, 3))\n",
    "plt.xlabel(r\"$r$\")\n",
    "plt.ylabel(r\"$\\rho$\")\n",
    "plt.plot(r_vals, unit_rho_vals, color=\"red\")\n",
    "plt.tight_layout()\n",
    "plt.show()"
   ]
  },
  {
   "cell_type": "code",
   "execution_count": null,
   "metadata": {},
   "outputs": [],
   "source": [
    "from utils.utilities import get_ODE_function"
   ]
  },
  {
   "cell_type": "code",
   "execution_count": null,
   "metadata": {},
   "outputs": [],
   "source": [
    "ode = get_ODE_function(get_rho(1), exponent=5)"
   ]
  },
  {
   "cell_type": "code",
   "execution_count": null,
   "metadata": {},
   "outputs": [
    {
     "name": "stdout",
     "output_type": "stream",
     "text": [
      "Upper bound for amplitude is approximately: 1.0396762135523294e-06 \n",
      "\n",
      "[0] 1.04e-06 at least one secant did not converge.\n",
      "[1] 5.20e-07 at least one secant did not converge.\n",
      "[2] 2.60e-07 converged! \n",
      "\n",
      " top: 173.20577461 after 8 secant iterations\n",
      " bot: 94.98372125 after 7 secant iterations\n",
      "\n",
      "Found bounds for critical parameter and alpha values:\n",
      "Alpha bounds: 94.9837212480177 173.2057746131063\n",
      "Parameter bounds: 2.5991905338808235e-07 5.198381067761647e-07\n",
      "[0] (2.60e-07  | 3.90e-07 | 5.20e-07) <<< []\n",
      "[1] (2.60e-07  | 3.25e-07 | 3.90e-07) <<< []\n",
      "[2] (2.60e-07  | 2.92e-07 | 3.25e-07) <<< []\n",
      "[3] (2.60e-07  | 2.76e-07 | 2.92e-07) <<< []\n",
      "[4] (2.60e-07  | 2.68e-07 | 2.76e-07) ↑ ↓ >>> [115.29354977256608, 144.91660034668922]\n",
      "[5] (2.68e-07  | 2.72e-07 | 2.76e-07) <<< []\n",
      "[6] (2.68e-07  | 2.70e-07 | 2.72e-07) <<< []\n",
      "[7] (2.68e-07  | 2.69e-07 | 2.70e-07) ↑ ↓ >>> [121.81536213876126, 137.41812172100302]\n",
      "[8] (2.69e-07  | 2.70e-07 | 2.70e-07) <<< []\n",
      "[9] (2.69e-07  | 2.69e-07 | 2.70e-07)"
     ]
    },
    {
     "name": "stderr",
     "output_type": "stream",
     "text": [
      "Exception ignored on calling ctypes callback function: <function ExecutionEngine._raw_object_cache_notify at 0x000001CDD99B8FE0>\n",
      "Traceback (most recent call last):\n",
      "  File \"c:\\Users\\josef\\AppData\\Local\\Programs\\Python\\Python312\\Lib\\site-packages\\llvmlite\\binding\\executionengine.py\", line 178, in _raw_object_cache_notify\n",
      "    def _raw_object_cache_notify(self, data):\n",
      "\n",
      "KeyboardInterrupt: \n"
     ]
    },
    {
     "name": "stdout",
     "output_type": "stream",
     "text": [
      " ↑ ↓ >>> [124.86807241249628, 134.12194673492527]\n",
      "[10] (2.69e-07  | 2.69e-07 | 2.70e-07) ↑ ↓ >>> [128.12710975225204, 130.7412817032572]\n",
      "[11] (2.69e-07  | 2.70e-07 | 2.70e-07) <<< []\n",
      "[12] (2.69e-07  | 2.69e-07 | 2.70e-07) <<< []\n",
      "[13] (2.69e-07  | 2.69e-07 | 2.69e-07)"
     ]
    }
   ],
   "source": [
    "forced = True # if True, the code will always run the brute-force search and save results to a file\n",
    "\n",
    "if not forced and (os.path.isfile(\"data/\" +  shell + \"_critical.pkl\")):\n",
    "    with open(\"data/\" +  shell + \"_critical.pkl\", \"rb\") as f:\n",
    "        results = pickle.load(f)\n",
    "\n",
    "    critical_alpha = results[\"critical_alpha\"]\n",
    "    critical_parameter = results[\"critical_parameter\"]\n",
    "\n",
    "else:\n",
    "    ((parameter_lower, parameter_upper), (alpha_lower, alpha_upper), boolean_success) = bound_critical_parameter(\n",
    "        _get_rho = get_rho,\n",
    "        rk_start = R_MAX,\n",
    "        rk_end = R_MIN,\n",
    "        rk_step = STEP,\n",
    "        secant_tolerance = SECANT_TOLERANCE,\n",
    "        secant_max_iters = SECANT_MAX_ITERS,\n",
    "        secant_initial_step = SECANT_INITIAL_STEP,\n",
    "        parameter_max = None,\n",
    "        alpha_max = ALPHA_MAX,\n",
    "        alpha_min = ALPHA_MIN,\n",
    "        max_iters = MAX_ITERS,\n",
    "        minimal_seeked_bound_distance = 1e-3,\n",
    "        verbose = True,\n",
    "        scale = 2,\n",
    "    )\n",
    "\n",
    "    critical_alpha, critical_parameter, _ = locate_critical_parameter(\n",
    "        _get_rho = get_rho,\n",
    "        start = parameter_lower,\n",
    "        end = parameter_upper,\n",
    "        alpha_start = alpha_lower,\n",
    "        alpha_end = alpha_upper,\n",
    "        rk_start = R_MAX,\n",
    "        rk_end = R_MIN,\n",
    "        rk_step = STEP,\n",
    "        secant_tolerance = SECANT_TOLERANCE,\n",
    "        secant_max_iters = SECANT_MAX_ITERS,\n",
    "        secant_initial_step = SECANT_INITIAL_STEP,\n",
    "        bisection_tolerance = BISECTION_TOLERANCE,\n",
    "        bisection_max_iters = BISECTION_MAX_ITERS,\n",
    "        bisection_root_tol = BISECTION_ROOT_TOLERANCE\n",
    "    )\n",
    "\n",
    "    with open(\"data/\" +  shell + \"_critical.pkl\", \"wb\") as f:\n",
    "        pickle.dump(\n",
    "            {\n",
    "                \"critical_alpha\": critical_alpha,\n",
    "                \"critical_parameter\": critical_parameter,\n",
    "            },\n",
    "            f,\n",
    "    )\n",
    "    "
   ]
  },
  {
   "cell_type": "code",
   "execution_count": null,
   "metadata": {},
   "outputs": [
    {
     "data": {
      "image/png": "[encoded data removed]",
      "text/plain": [
       "<Figure size 640x480 with 1 Axes>"
      ]
     },
     "metadata": {},
     "output_type": "display_data"
    }
   ],
   "source": [
    "geometric = geospace(critical_parameter / OFFSET, critical_parameter, steps = (COUNT // 2)+1, ratio=RATIO)\n",
    "logarithmic = np.logspace(np.log10(critical_parameter / OFFSET), np.log10(critical_parameter), COUNT // 2, base=10.0)\n",
    "parameters = np.sort(np.concatenate((geometric, logarithmic)))[1:] # join, sort and remove first duplicit value\n",
    "\n",
    "plt.scatter(range(len(parameters)), parameters)\n",
    "plt.axhline(critical_parameter, color=\"red\", linestyle=\"--\", label=\"critical parameter\")\n",
    "plt.yscale(\"log\")\n",
    "plt.show()"
   ]
  },
  {
   "cell_type": "code",
   "execution_count": null,
   "metadata": {},
   "outputs": [],
   "source": [
    "# ∇ Ψ + 2πρ Ψ^exponent = 0\n",
    "exponent = 5 # for scaling\n",
    "parameter_search_range = parameters.copy()\n",
    "alpha_search_range = np.linspace(0, 2000, 10) # starting guesses, ad hoc, could be arbirtrarily large"
   ]
  },
  {
   "cell_type": "code",
   "execution_count": null,
   "metadata": {},
   "outputs": [],
   "source": [
    "forced = False\n",
    "\n",
    "if not forced and (os.path.isfile(\"data/\" +  shell + \"_results.pkl\")):\n",
    "    with open(\"data/\" +  shell + \"_results.pkl\", \"rb\") as f:\n",
    "        results = pickle.load(f)\n",
    "\n",
    "    ADM_mass_vals = results[\"E_ADM\"]\n",
    "    rest_mass_vals = results[\"rest_mass\"]\n",
    "    parameters = results[\"parameters\"]\n",
    "    horizons = results[\"horizons\"]\n",
    "\n",
    "else:\n",
    "\n",
    "    ADM_mass_vals, rest_mass_vals, parameters, horizons = bruteforce_parameter_and_energy_relationship(\n",
    "        get_rho,\n",
    "        parameter_search_range,\n",
    "        alpha_search_range,\n",
    "        (R_MAX, R_MIN, STEP),\n",
    "        (SECANT_TOLERANCE, SECANT_MAX_ITERS, SECANT_INITIAL_STEP),\n",
    "        exponent = exponent,\n",
    "        unique_root_tolerance=1e-4,\n",
    "    )\n",
    "\n",
    "    with open(\"data/\" +  shell + \"_results.pkl\", \"wb\") as f:\n",
    "        pickle.dump(\n",
    "            {\n",
    "                \"E_ADM\": ADM_mass_vals,\n",
    "                \"rest_mass\": rest_mass_vals,\n",
    "                \"parameters\": parameters,\n",
    "                \"horizons\": horizons,\n",
    "            },\n",
    "            f,\n",
    "        )"
   ]
  },
  {
   "cell_type": "code",
   "execution_count": null,
   "metadata": {},
   "outputs": [
    {
     "name": "stdout",
     "output_type": "stream",
     "text": [
      "numerical c. amplitude 2.694455055106306e-07\n",
      "numerical c. ADM mass: 258.8607919144617\n"
     ]
    },
    {
     "data": {
      "text/plain": [
       "<matplotlib.legend.Legend at 0x1cdff90f350>"
      ]
     },
     "execution_count": 24,
     "metadata": {},
     "output_type": "execute_result"
    },
    {
     "data": {
      "image/png": "[encoded data removed]",
      "text/plain": [
       "<Figure size 400x400 with 1 Axes>"
      ]
     },
     "metadata": {},
     "output_type": "display_data"
    }
   ],
   "source": [
    "print(f\"numerical c. amplitude {critical_parameter}\")\n",
    "print(f\"numerical c. ADM mass: {2 * critical_alpha}\")\n",
    "\n",
    "plt.figure(figsize=(4, 4))\n",
    "plt.scatter(\n",
    "    parameters,\n",
    "    ADM_mass_vals,\n",
    "    label=\"ADM mass\",\n",
    "    color=\"blue\",\n",
    "    s=10\n",
    ")\n",
    "\n",
    "plt.scatter(\n",
    "    parameters,\n",
    "    rest_mass_vals,\n",
    "    label=\"rest mass\",\n",
    "    color=\"red\",\n",
    "    s=10\n",
    ")\n",
    "\n",
    "plt.xlabel(r\"$\\rho_0$\")\n",
    "\n",
    "plt.xscale(\"log\")\n",
    "plt.yscale(\"log\")\n",
    "plt.legend()"
   ]
  },
  {
   "cell_type": "code",
   "execution_count": null,
   "metadata": {},
   "outputs": [],
   "source": [
    "_parameters = np.array([parameters[i] for i in np.argsort(ADM_mass_vals)])\n",
    "_rest_mass_vals = np.array([rest_mass_vals[i] for i in np.argsort(ADM_mass_vals)])\n",
    "_ADM_mass_vals = np.array([ADM_mass_vals[i] for i in np.argsort(ADM_mass_vals)])\n",
    "\n",
    "critical_index = np.argmin(np.abs(np.array(_parameters) - critical_parameter))\n",
    "\n",
    "lower_branch_ADM_mass = _ADM_mass_vals[:critical_index + 1]\n",
    "lower_branch_rest_mass = _rest_mass_vals[:critical_index + 1]\n",
    "lower_branch_parameters = _parameters[:critical_index + 1]\n",
    "\n",
    "upper_branch_ADM_mass = _ADM_mass_vals[critical_index:]\n",
    "upper_branch_rest_mass = _rest_mass_vals[critical_index:]\n",
    "upper_branch_parameters = _parameters[critical_index:]\n",
    "\n",
    "\n",
    "horizon_parameters = [val[0] for val in horizons]\n",
    "horizon_ADM_mass = [val[1] for val in horizons]\n",
    "horizon_rest_mass = [val[2] for val in horizons]\n",
    "\n",
    "horizons_start_at_parameter = np.max(horizon_parameters)\n",
    "\n",
    "# separate those values with horizons and those without\n",
    "\n",
    "upper_branch_parameters_with_horizons = [par for par in upper_branch_parameters if par <= horizons_start_at_parameter]\n",
    "upper_branch_ADM_mass_with_horizons = [mass for mass, par in zip(upper_branch_ADM_mass, upper_branch_parameters) if par <= horizons_start_at_parameter]\n",
    "upper_branch_rest_mass_with_horizons = [mass for mass, par in zip(upper_branch_rest_mass, upper_branch_parameters) if par <= horizons_start_at_parameter]\n",
    "\n",
    "upper_branch_without_horizons = [par for par in upper_branch_parameters if par >= horizons_start_at_parameter]\n",
    "upper_branch_ADM_mass_without_horizons = [mass for mass, par in zip(upper_branch_ADM_mass, upper_branch_parameters) if par >= horizons_start_at_parameter]\n",
    "upper_branch_rest_mass_without_horizons = [mass for mass, par in zip(upper_branch_rest_mass, upper_branch_parameters) if par >= horizons_start_at_parameter]"
   ]
  },
  {
   "cell_type": "code",
   "execution_count": null,
   "metadata": {},
   "outputs": [
    {
     "name": "stdout",
     "output_type": "stream",
     "text": [
      "first horizon found at approx. parameter 8.8e-08 with ADM energy 1.1e+03 and rest mass 2.4e+03\n"
     ]
    },
    {
     "data": {
      "image/png": "[encoded data removed]",
      "text/plain": [
       "<Figure size 302.419x302.419 with 1 Axes>"
      ]
     },
     "metadata": {},
     "output_type": "display_data"
    }
   ],
   "source": [
    "# scale = 0.4\n",
    "width = 3.02419 #plot_utils.textwidth * scale * plot_utils.cm_to_inch\n",
    "height = width\n",
    "\n",
    "color = \"red\"\n",
    "lighter_color = blend_color(color, 0.3)\n",
    "\n",
    "fig = plt.figure(figsize=(width, height), tight_layout=True)\n",
    "\n",
    "draw_horizons(horizons, exponent = exponent, delta=0.6, arrow_length=0.6)\n",
    "\n",
    "plt.plot(lower_branch_parameters, lower_branch_rest_mass, color=lighter_color, linewidth=1.5, solid_capstyle=\"round\")\n",
    "plt.plot(upper_branch_without_horizons, upper_branch_rest_mass_without_horizons, color=lighter_color, linewidth=1.5, solid_capstyle=\"round\", label=r\"$M_{\\text{rest}}$\")\n",
    "plt.plot(upper_branch_parameters_with_horizons, upper_branch_rest_mass_with_horizons, color=lighter_color, linewidth=1.5, linestyle=\"dotted\")\n",
    "\n",
    "plt.plot(lower_branch_parameters, lower_branch_ADM_mass, color=color, linewidth=1.5, solid_capstyle=\"round\")\n",
    "plt.plot(upper_branch_without_horizons, upper_branch_ADM_mass_without_horizons, color=color, linewidth=1.5, solid_capstyle=\"round\", label=r\"$M_{\\text{ADM}}$\")\n",
    "plt.plot(upper_branch_parameters_with_horizons, upper_branch_ADM_mass_with_horizons, color=color, linewidth=1.5, linestyle=\"dotted\")\n",
    "\n",
    "plt.xlim(left=min(parameters))\n",
    "\n",
    "plt.xscale(\"log\")\n",
    "plt.yscale(\"log\")\n",
    "\n",
    "plt.minorticks_on()\n",
    "\n",
    "plt.ylabel(r\"$M$\")\n",
    "plt.xlabel(r\"$\\rho_0$\")\n",
    "\n",
    "plt.legend(\n",
    "    loc=\"lower right\", fancybox=False, \n",
    "    framealpha=1, frameon=False, ncol=1, handlelength=0.8, handletextpad=1, columnspacing=0.8, \n",
    ")\n",
    "plt.savefig(\"img/\" + shell + \"_sol_curve.pdf\", bbox_inches=\"tight\", dpi=300)"
   ]
  },
  {
   "cell_type": "code",
   "execution_count": null,
   "metadata": {},
   "outputs": [],
   "source": []
  },
  {
   "cell_type": "code",
   "execution_count": null,
   "metadata": {},
   "outputs": [],
   "source": []
  }
 ],
 "metadata": {
  "kernelspec": {
   "display_name": "Python 3",
   "language": "python",
   "name": "python3"
  },
  "language_info": {
   "codemirror_mode": {
    "name": "ipython",
    "version": 3
   },
   "file_extension": ".py",
   "mimetype": "text/x-python",
   "name": "python",
   "nbconvert_exporter": "python",
   "pygments_lexer": "ipython3",
   "version": "3.12.3"
  }
 },
 "nbformat": 4,
 "nbformat_minor": 2
}
